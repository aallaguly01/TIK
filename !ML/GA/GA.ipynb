{
  "cells": [
    {
      "cell_type": "code",
      "execution_count": 1,
      "id": "432ef960",
      "metadata": {
        "id": "432ef960"
      },
      "outputs": [],
      "source": [
        "import random"
      ]
    },
    {
      "cell_type": "code",
      "execution_count": 2,
      "id": "ba0754ce",
      "metadata": {
        "id": "ba0754ce"
      },
      "outputs": [],
      "source": [
        "MAX_FITNESS = 10000\n",
        "GEN_SIZE = 30"
      ]
    },
    {
      "cell_type": "code",
      "execution_count": 3,
      "id": "1a10785f",
      "metadata": {
        "id": "1a10785f"
      },
      "outputs": [],
      "source": [
        "def equation(chromosome):\n",
        "    \n",
        "  return (chromosome[0]-13*chromosome[1]+7*chromosome[2]+3*chromosome[3]+8*chromosome[4]+chromosome[5])-8"
      ]
    },
    {
      "cell_type": "code",
      "execution_count": 4,
      "id": "55cc0953",
      "metadata": {
        "id": "55cc0953"
      },
      "outputs": [],
      "source": [
        "def fitness(chromosome):\n",
        "  ans = equation(chromosome)\n",
        "  if ans == 0:\n",
        "    return MAX_FITNESS\n",
        "  return abs(1/ans)"
      ]
    },
    {
      "cell_type": "code",
      "execution_count": 5,
      "id": "0f982123",
      "metadata": {
        "id": "0f982123"
      },
      "outputs": [],
      "source": [
        "def selection(population, fit_chromosomes):\n",
        "    fitnessscore=[]\n",
        "    for chromosome in population:\n",
        "        individual_fitness=fitness(chromosome)\n",
        "        fitnessscore.append(individual_fitness)\n",
        "    score_card=list(zip(fitnessscore,population))\n",
        "\n",
        "    for individual in score_card:\n",
        "        if individual[0]==MAX_FITNESS:\n",
        "            if individual[1] not in fit_chromosomes:\n",
        "                fit_chromosomes.append(individual[1])\n",
        "    \n",
        "    score_card=score_card[:GEN_SIZE]\n",
        "    score, population=zip(*score_card)\n",
        "\n",
        "    return list(population)"
      ]
    },
    {
      "cell_type": "code",
      "execution_count": 6,
      "id": "510ca385",
      "metadata": {
        "id": "510ca385"
      },
      "outputs": [],
      "source": [
        "def mutation(population):\n",
        "    mutatedchromosomes=[]\n",
        "    for chromosome in population:\n",
        "        mutation_site=random.randint(0,5)\n",
        "        chromosome[mutation_site]=random.randint(1,9)\n",
        "        mutatedchromosomes.append(chromosome)\n",
        "    return mutatedchromosomes"
      ]
    },
    {
      "cell_type": "code",
      "execution_count": 7,
      "id": "f8bd3589",
      "metadata": {
        "id": "f8bd3589"
      },
      "outputs": [],
      "source": [
        "def crossover(population):\n",
        "    random.shuffle(population)\n",
        "    populationHalf = GEN_SIZE // 2\n",
        "    fatherchromosome=population[:populationHalf]\n",
        "    motherchromosome=population[populationHalf:]\n",
        "    children=[]\n",
        "\n",
        "    for i in range(len(fatherchromosome)):\n",
        "        chromoLength=random.randint(1,5)\n",
        "        fatherfragments=[fatherchromosome[i][:chromoLength],fatherchromosome[i][chromoLength:]]\n",
        "        motherfragments=[motherchromosome[i][:chromoLength],motherchromosome[i][chromoLength:]]\n",
        "        firstchild=fatherfragments[0]+motherfragments[1]\n",
        "        secondchild=motherfragments[0]+fatherfragments[1]\n",
        "        children.append(firstchild)\n",
        "        children.append(secondchild)\n",
        "    return children"
      ]
    },
    {
      "cell_type": "code",
      "execution_count": 8,
      "id": "f9d04a96",
      "metadata": {
        "id": "f9d04a96"
      },
      "outputs": [],
      "source": [
        "def solve(generations):\n",
        "    population=[[random.randint(1,9) for i in range(6)] for j in range(GEN_SIZE)]\n",
        "    fit_chromosomes=[]\n",
        "    for generation in range(generations):\n",
        "        population=selection(population, fit_chromosomes)\n",
        "        crossover_children=crossover(population)\n",
        "        population=crossover_children\n",
        "        mutated_population=mutation(population)\n",
        "        population=mutated_population\n",
        "    return fit_chromosomes"
      ]
    },
    {
      "cell_type": "code",
      "execution_count": 9,
      "id": "c48d66b7",
      "metadata": {
        "colab": {
          "base_uri": "https://localhost:8080/"
        },
        "id": "c48d66b7",
        "outputId": "ea3ebd6c-31f6-454e-f2c3-a6d08e8046e5"
      },
      "outputs": [
        {
          "output_type": "stream",
          "name": "stdout",
          "text": [
            "A=8 B=9 C=6 D=8 E=6 F=3\n",
            "A-13B+5C+1D+5E+F=8\n",
            " \n",
            "A=6 B=9 C=8 D=2 E=7 F=1\n",
            "A-13B+5C+1D+5E+F=8\n",
            " \n",
            "A=9 B=6 C=2 D=3 E=6 F=6\n",
            "A-13B+5C+1D+5E+F=8\n",
            " \n",
            "A=9 B=8 C=4 D=7 E=6 F=6\n",
            "A-13B+5C+1D+5E+F=8\n",
            " \n",
            "A=8 B=6 C=5 D=8 E=2 F=3\n",
            "A-13B+5C+1D+5E+F=8\n",
            " \n",
            "A=7 B=3 C=3 D=2 E=1 F=5\n",
            "A-13B+5C+1D+5E+F=8\n",
            " \n",
            "A=7 B=8 C=5 D=2 E=7 F=8\n",
            "A-13B+5C+1D+5E+F=8\n",
            " \n",
            "A=5 B=7 C=5 D=6 E=5 F=1\n",
            "A-13B+5C+1D+5E+F=8\n",
            " \n",
            "A=1 B=3 C=1 D=1 E=4 F=4\n",
            "A-13B+5C+1D+5E+F=8\n",
            " \n",
            "A=2 B=7 C=6 D=6 E=4 F=5\n",
            "A-13B+5C+1D+5E+F=8\n",
            " \n",
            "A=5 B=9 C=8 D=4 E=6 F=4\n",
            "A-13B+5C+1D+5E+F=8\n",
            " \n",
            "A=8 B=3 C=2 D=4 E=1 F=5\n",
            "A-13B+5C+1D+5E+F=8\n",
            " \n",
            "A=8 B=5 C=3 D=6 E=3 F=2\n",
            "A-13B+5C+1D+5E+F=8\n",
            " \n",
            "A=9 B=5 C=1 D=2 E=6 F=3\n",
            "A-13B+5C+1D+5E+F=8\n",
            " \n",
            "A=6 B=9 C=6 D=1 E=9 F=2\n",
            "A-13B+5C+1D+5E+F=8\n",
            " \n",
            "A=9 B=7 C=6 D=5 E=4 F=1\n",
            "A-13B+5C+1D+5E+F=8\n",
            " \n",
            "A=9 B=7 C=6 D=5 E=3 F=9\n",
            "A-13B+5C+1D+5E+F=8\n",
            " \n",
            "A=2 B=3 C=4 D=2 E=1 F=3\n",
            "A-13B+5C+1D+5E+F=8\n",
            " \n",
            "A=6 B=7 C=3 D=9 E=5 F=5\n",
            "A-13B+5C+1D+5E+F=8\n",
            " \n",
            "A=8 B=5 C=4 D=9 E=1 F=2\n",
            "A-13B+5C+1D+5E+F=8\n",
            " \n",
            "A=4 B=7 C=3 D=1 E=8 F=7\n",
            "A-13B+5C+1D+5E+F=8\n",
            " \n",
            "A=9 B=7 C=2 D=8 E=6 F=4\n",
            "A-13B+5C+1D+5E+F=8\n",
            " \n",
            "A=5 B=6 C=6 D=5 E=2 F=8\n",
            "A-13B+5C+1D+5E+F=8\n",
            " \n",
            "A=4 B=5 C=3 D=1 E=5 F=5\n",
            "A-13B+5C+1D+5E+F=8\n",
            " \n",
            "A=1 B=7 C=8 D=2 E=4 F=4\n",
            "A-13B+5C+1D+5E+F=8\n",
            " \n",
            "A=6 B=7 C=1 D=5 E=8 F=7\n",
            "A-13B+5C+1D+5E+F=8\n",
            " \n",
            "A=2 B=8 C=5 D=6 E=7 F=1\n",
            "A-13B+5C+1D+5E+F=8\n",
            " \n",
            "A=1 B=7 C=3 D=1 E=9 F=2\n",
            "A-13B+5C+1D+5E+F=8\n",
            " \n",
            "A=3 B=5 C=7 D=3 E=1 F=4\n",
            "A-13B+5C+1D+5E+F=8\n",
            " \n",
            "A=7 B=7 C=8 D=6 E=2 F=2\n",
            "A-13B+5C+1D+5E+F=8\n",
            " \n",
            "A=1 B=8 C=3 D=5 E=9 F=3\n",
            "A-13B+5C+1D+5E+F=8\n",
            " \n",
            "A=2 B=9 C=9 D=9 E=4 F=1\n",
            "A-13B+5C+1D+5E+F=8\n",
            " \n",
            "A=5 B=3 C=1 D=5 E=2 F=4\n",
            "A-13B+5C+1D+5E+F=8\n",
            " \n",
            "A=2 B=8 C=7 D=9 E=4 F=2\n",
            "A-13B+5C+1D+5E+F=8\n",
            " \n",
            "A=7 B=8 C=6 D=5 E=5 F=8\n",
            "A-13B+5C+1D+5E+F=8\n",
            " \n",
            "A=5 B=6 C=1 D=8 E=6 F=2\n",
            "A-13B+5C+1D+5E+F=8\n",
            " \n",
            "A=7 B=7 C=3 D=6 E=6 F=5\n",
            "A-13B+5C+1D+5E+F=8\n",
            " \n",
            "A=3 B=6 C=1 D=8 E=6 F=4\n",
            "A-13B+5C+1D+5E+F=8\n",
            " \n",
            "A=1 B=8 C=4 D=1 E=9 F=8\n",
            "A-13B+5C+1D+5E+F=8\n",
            " \n",
            "A=6 B=7 C=5 D=5 E=5 F=3\n",
            "A-13B+5C+1D+5E+F=8\n",
            " \n",
            "A=7 B=8 C=5 D=7 E=6 F=1\n",
            "A-13B+5C+1D+5E+F=8\n",
            " \n",
            "A=4 B=9 C=3 D=8 E=9 F=4\n",
            "A-13B+5C+1D+5E+F=8\n",
            " \n",
            "A=9 B=5 C=5 D=2 E=2 F=7\n",
            "A-13B+5C+1D+5E+F=8\n",
            " \n",
            "A=3 B=4 C=3 D=1 E=3 F=9\n",
            "A-13B+5C+1D+5E+F=8\n",
            " \n"
          ]
        }
      ],
      "source": [
        "solutions=solve(200)\n",
        "#a-13b+5c+1d+5e+f=8\n",
        "for solution in solutions: \n",
        " print(\"A={} B={} C={} D={} E={} F={}\".format(solution[0],solution[1],solution[2],solution[3],solution[4],solution[5]))\n",
        " print(\"A-13B+5C+1D+5E+F={}\".format(solution[0]-13*solution[1]+7*solution[2]+3*solution[3]+8*solution[4]+solution[5]))\n",
        " print(\" \")\n",
        "#print(solutions)"
      ]
    }
  ],
  "metadata": {
    "kernelspec": {
      "display_name": "Python 3 (ipykernel)",
      "language": "python",
      "name": "python3"
    },
    "language_info": {
      "codemirror_mode": {
        "name": "ipython",
        "version": 3
      },
      "file_extension": ".py",
      "mimetype": "text/x-python",
      "name": "python",
      "nbconvert_exporter": "python",
      "pygments_lexer": "ipython3",
      "version": "3.9.12"
    },
    "colab": {
      "provenance": []
    }
  },
  "nbformat": 4,
  "nbformat_minor": 5
}